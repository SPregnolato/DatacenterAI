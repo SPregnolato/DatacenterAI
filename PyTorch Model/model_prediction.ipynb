{
 "cells": [
  {
   "cell_type": "markdown",
   "metadata": {},
   "source": [
    "# System Identification\n",
    "\n",
    "Model prediction with RNN in PyTorch"
   ]
  },
  {
   "cell_type": "code",
   "execution_count": 3,
   "metadata": {},
   "outputs": [],
   "source": [
    "import numpy as np\n",
    "import matplotlib.pyplot as plt\n",
    "import torch\n",
    "import torch.nn as nn"
   ]
  },
  {
   "cell_type": "markdown",
   "metadata": {},
   "source": [
    "### The Model"
   ]
  },
  {
   "cell_type": "code",
   "execution_count": 4,
   "metadata": {},
   "outputs": [],
   "source": [
    "def datacenter_model(t_sim, initial_month = 0, initial_number_users = 10, initial_rate_data = 60):\n",
    "    \n",
    "    \n",
    "    ## Parameters\n",
    "    Text = [1.0, 5.0, 7.0, 10.0, 11.0, 20.0, 23.0, 24.0, 22.0, 10.0, 5.0, 1.0]\n",
    "    \n",
    "    min_number_users = 10\n",
    "    max_number_users = 100\n",
    "    max_update_users = 5\n",
    "    \n",
    "    min_rate_data = 20\n",
    "    max_rate_data = 300\n",
    "    max_update_data = 10\n",
    "    \n",
    "    k0 = 0.3\n",
    "    k1 = 1.25\n",
    "    k2 = 1.25\n",
    "    \n",
    "    \n",
    "    ## Simulation\n",
    "    T_model = np.zeros([t_sim+1,1])\n",
    "    T_model[0] = Text[initial_month] + k0 * (k1*initial_number_users + k2*initial_rate_data)\n",
    "    number_users = initial_number_users\n",
    "    rate_data = initial_rate_data \n",
    "    \n",
    "    delta_number_users = np.random.randint(-max_update_users, max_update_users, t_sim+1)\n",
    "    delta_rate_data = np.random.randint(-max_rate_data, max_rate_data, t_sim+1)\n",
    "    \n",
    "    for t in range(t_sim):\n",
    "        \n",
    "        t+=1\n",
    "        month = (initial_month + int(t/(30*24*60))) % 12\n",
    "        \n",
    "        number_users = np.clip(number_users + delta_number_users[t], min_number_users, max_number_users)\n",
    "        rate_data = np.clip(rate_data + delta_rate_data[t], min_rate_data, max_rate_data)\n",
    "        \n",
    "        T_model[t] = Text[month] + k0 * (k1*number_users + k2*rate_data)\n",
    "        \n",
    "        \n",
    "    return T_model\n",
    "    "
   ]
  },
  {
   "cell_type": "markdown",
   "metadata": {},
   "source": [
    "### The new Model"
   ]
  },
  {
   "cell_type": "code",
   "execution_count": 26,
   "metadata": {},
   "outputs": [],
   "source": [
    "def rack_model(t_sim, initial_month = 0, initial_number_users = 10, initial_rate_data = 60):\n",
    "    \n",
    "    \n",
    "    ## Parameters\n",
    "    Text = [1.0, 5.0, 7.0, 10.0, 11.0, 20.0, 23.0, 24.0, 22.0, 10.0, 5.0, 1.0]\n",
    "    \n",
    "    min_number_users = 0\n",
    "    max_number_users = 100\n",
    "    max_update_users = 5\n",
    "    \n",
    "    min_rate_data = 0\n",
    "    max_rate_data = 300\n",
    "    max_update_data = 10\n",
    "    \n",
    "    k0 = 0.3\n",
    "    k1 = 1.25\n",
    "    k2 = 1.25\n",
    "    \n",
    "    h = 0.0001\n",
    "    c_p = 3\n",
    "    R = 0.001\n",
    "    rho = 0.00001\n",
    "    b = 0.01\n",
    "    \n",
    "    step_size = 1\n",
    "    \n",
    "    x_in = 0 # inlet cool air\n",
    "    \n",
    "    ## Simulation\n",
    "    # xc(0)\n",
    "    T_model = np.zeros([t_sim+1,2]) # [Xc, Xout]\n",
    "    T_model[0,0] = 20 \n",
    "    T_model[0,1] = x_in + h * (T_model[0,0] - x_in) / c_p\n",
    "    number_users = initial_number_users\n",
    "    rate_data = initial_rate_data \n",
    "    \n",
    "    # power effects\n",
    "    delta_number_users = np.random.randint(-max_update_users, max_update_users, t_sim+1)\n",
    "    delta_rate_data = np.random.randint(-max_rate_data, max_rate_data, t_sim+1)\n",
    "    \n",
    "    # input (volume flow)\n",
    "    u = 0\n",
    "    \n",
    "    \n",
    "    for t in range(t_sim):\n",
    "        \n",
    "        t+=1\n",
    "        month = (initial_month + int(t/(30*24*60))) % 12\n",
    "        \n",
    "        number_users = np.clip(number_users + delta_number_users[t-1], min_number_users, max_number_users)\n",
    "        rate_data = np.clip(rate_data + delta_rate_data[t-1], min_rate_data, max_rate_data)\n",
    "        \n",
    "        power = k0 * (k1*number_users + k2*rate_data)\n",
    "        \n",
    "        # Xc\n",
    "        T_model[t,0] = T_model[t-1,0] + step_size * (-h*u*(T_model[t-1,0]-x_in) + R*T_model[t-1,0] + rho*x_in + b*power)\n",
    "        \n",
    "        # Xout        \n",
    "        T_model[t,1] = x_in + h * (T_model[t,0]-x_in) / c_p\n",
    "        \n",
    "        \n",
    "        \n",
    "    return T_model\n",
    "    "
   ]
  },
  {
   "cell_type": "markdown",
   "metadata": {},
   "source": [
    "### The Simulation\n",
    "\n"
   ]
  },
  {
   "cell_type": "code",
   "execution_count": 28,
   "metadata": {},
   "outputs": [
    {
     "data": {
      "image/png": "[encoded data removed]",
      "text/plain": [
       "<Figure size 1152x576 with 1 Axes>"
      ]
     },
     "metadata": {
      "needs_background": "light"
     },
     "output_type": "display_data"
    }
   ],
   "source": [
    "t_sim =  1000  # [min]\n",
    "\n",
    "#T_model = datacenter_model(t_sim, initial_month = 0, initial_number_users = 10, initial_rate_data = 60)\n",
    "T_model = rack_model(t_sim, initial_month = 0, initial_number_users = 10, initial_rate_data = 60)\n",
    "\n",
    "plt.figure(figsize=(16,8))\n",
    "plt.plot(T_model[:1000,0], label='T_cpu')\n",
    "plt.plot(T_model[:1000,1], label='T_out')\n",
    "plt.grid(True)\n",
    "plt.legend()\n",
    "plt.show()\n"
   ]
  },
  {
   "cell_type": "markdown",
   "metadata": {},
   "source": [
    "### Prepare the series"
   ]
  },
  {
   "cell_type": "code",
   "execution_count": null,
   "metadata": {},
   "outputs": [],
   "source": [
    "# Define a test size\n",
    "test_size = 50\n",
    "\n",
    "# Create train and test sets\n",
    "train_set = T_model[:-test_size]\n",
    "test_set = T_model[-test_size:]\n",
    "\n",
    "# Normalize the data (to improve training)\n",
    "from sklearn.preprocessing import MinMaxScaler\n",
    "scaler = MinMaxScaler(feature_range=(-1,1))\n",
    "train_norm = scaler.fit_transform(train_set.reshape(-1,1))"
   ]
  },
  {
   "cell_type": "markdown",
   "metadata": {},
   "source": [
    "### Prepare data for LSTM\n",
    "list of tuples: [ (window_i, label_i) ]"
   ]
  },
  {
   "cell_type": "code",
   "execution_count": null,
   "metadata": {},
   "outputs": [],
   "source": [
    "# Convert train_norm from an array to a tensor\n",
    "train_norm = torch.FloatTensor(train_norm).view(-1)\n",
    "\n",
    "# Define a window size \n",
    "window_size = 50   # [min] \n",
    "\n",
    "# Define function to create seq/label tuples\n",
    "def input_data(seq,ws):  # ws is the window size\n",
    "    out = []\n",
    "    L = len(seq)\n",
    "    for i in range(L-ws):\n",
    "        window = seq[i:i+ws]\n",
    "        label = seq[i+ws:i+ws+1]\n",
    "        out.append((window,label))\n",
    "    return out\n",
    "\n",
    "# Apply the input_data function to train_norm\n",
    "train_data = input_data(train_norm,window_size)\n"
   ]
  },
  {
   "cell_type": "markdown",
   "metadata": {},
   "source": [
    "### Define the model\n",
    "LSTM layer of size (1,100)."
   ]
  },
  {
   "cell_type": "code",
   "execution_count": null,
   "metadata": {},
   "outputs": [],
   "source": [
    "class LSTMnetwork(nn.Module):\n",
    "    \n",
    "    def __init__(self,input_size=1,hidden_size=100,num_layers=1,output_size=1):\n",
    "        # input_size –-> The number of expected features in the input x<i>\n",
    "        # hidden_size --> The number of features in the hidden state h<i-1>\n",
    "        # num_layers –-> Number of recurrent layers.\n",
    "        \n",
    "        # initalize the nn-Module\n",
    "        super().__init__()\n",
    "        \n",
    "        # set the attribute hidden_size\n",
    "        self.hidden_size = hidden_size\n",
    "        \n",
    "        # Add an LSTM layer:\n",
    "        self.lstm = nn.LSTM(input_size,hidden_size, num_layers)\n",
    "        \n",
    "        # Add a fully-connected layer:\n",
    "        self.linear = nn.Linear(hidden_size,output_size)\n",
    "        \n",
    "        # Initialize h0 and c0:\n",
    "        self.hidden = (torch.zeros(1,1,self.hidden_size),\n",
    "                       torch.zeros(1,1,self.hidden_size))\n",
    "\n",
    "        \n",
    "    def forward(self,seq):\n",
    "        \n",
    "        lstm_out, self.hidden = self.lstm(seq.view(len(seq),1,-1), self.hidden)\n",
    "        pred = self.linear(lstm_out.view(len(seq),-1))\n",
    "        \n",
    "        return pred[-1]  # we only want the last value"
   ]
  },
  {
   "cell_type": "code",
   "execution_count": null,
   "metadata": {},
   "outputs": [],
   "source": [
    "# create the model\n",
    "model = LSTMnetwork()\n",
    "\n",
    "# define the loss function\n",
    "criterion = nn.MSELoss() \n",
    "\n",
    "# define the optimization function\n",
    "optimizer = torch.optim.Adam(model.parameters(), lr=0.001)\n",
    "\n",
    "model"
   ]
  },
  {
   "cell_type": "markdown",
   "metadata": {},
   "source": [
    "### Train the model"
   ]
  },
  {
   "cell_type": "code",
   "execution_count": null,
   "metadata": {},
   "outputs": [],
   "source": [
    "epochs = 100\n",
    "\n",
    "for epoch in range(epochs):\n",
    "    \n",
    "    # extract the sequence & label from the training data\n",
    "    for seq, y_train in train_data:\n",
    "        \n",
    "        # reset the parameters and hidden states\n",
    "        optimizer.zero_grad()\n",
    "        model.hidden = (torch.zeros(1,1,model.hidden_size),\n",
    "                        torch.zeros(1,1,model.hidden_size))\n",
    "        \n",
    "        # prediction\n",
    "        y_pred = model(seq)\n",
    "        \n",
    "        # loss\n",
    "        loss = criterion(y_pred, y_train)\n",
    "        \n",
    "        # compute gradients\n",
    "        loss.backward()\n",
    "        \n",
    "        # backpropagation (optimizer step)\n",
    "        optimizer.step()\n",
    "        \n",
    "    # print training result\n",
    "    print(f'Epoch: {epoch+1:2} Loss: {loss.item():10.8f}')"
   ]
  },
  {
   "cell_type": "markdown",
   "metadata": {},
   "source": [
    "# Model validation\n",
    "evaluating the model in the test set"
   ]
  },
  {
   "cell_type": "code",
   "execution_count": null,
   "metadata": {},
   "outputs": [],
   "source": [
    "# initialize the list of predictions\n",
    "preds = train_norm[-window_size:].tolist()\n",
    "\n",
    "# Set the model to evaluation mode\n",
    "model.eval()\n",
    "\n",
    "for i in range(test_size):\n",
    "    \n",
    "    seq = torch.FloatTensor(preds[-window_size:])\n",
    "    \n",
    "    with torch.no_grad():\n",
    "        \n",
    "        # initialize the states\n",
    "        model.hidden = (torch.zeros(1,1,model.hidden_size),\n",
    "                        torch.zeros(1,1,model.hidden_size))\n",
    "        \n",
    "        # compute the prediction\n",
    "        preds.append(model(seq).item())\n",
    "\n",
    "        \n",
    "# invert the normalization\n",
    "true_predictions = scaler.inverse_transform(np.array(preds[window_size:]).reshape(-1, 1))\n"
   ]
  },
  {
   "cell_type": "markdown",
   "metadata": {},
   "source": [
    "# Plot the results"
   ]
  },
  {
   "cell_type": "code",
   "execution_count": null,
   "metadata": {},
   "outputs": [],
   "source": [
    "plt.figure(figsize=(12,4))\n",
    "plt.grid(True)\n",
    "plt.plot(true_predictions)\n",
    "plt.plot(test_set)\n",
    "plt.show()"
   ]
  },
  {
   "cell_type": "code",
   "execution_count": null,
   "metadata": {},
   "outputs": [],
   "source": []
  }
 ],
 "metadata": {
  "kernelspec": {
   "display_name": "Python 3",
   "language": "python",
   "name": "python3"
  },
  "language_info": {
   "codemirror_mode": {
    "name": "ipython",
    "version": 3
   },
   "file_extension": ".py",
   "mimetype": "text/x-python",
   "name": "python",
   "nbconvert_exporter": "python",
   "pygments_lexer": "ipython3",
   "version": "3.7.6"
  }
 },
 "nbformat": 4,
 "nbformat_minor": 4
}
